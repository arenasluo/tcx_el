{
 "cells": [
  {
   "cell_type": "code",
   "execution_count": 1,
   "metadata": {},
   "outputs": [],
   "source": [
    "import pandas as pd\n",
    "\n",
    "# Load the CSV file\n",
    "csv_file_path = 'Cellcom_query_result.csv'\n",
    "df = pd.read_csv(csv_file_path, header =None)\n",
    "\n",
    "# Remove duplicate records\n",
    "df_cleaned = df.drop_duplicates()\n",
    "\n",
    "# Save the cleaned dataframe to a new CSV file\n",
    "cleaned_csv_file_path = 'Cellcom_query_result.csv'\n"
   ]
  },
  {
   "cell_type": "code",
   "execution_count": 2,
   "metadata": {},
   "outputs": [
    {
     "data": {
      "text/plain": [
       "8170"
      ]
     },
     "execution_count": 2,
     "metadata": {},
     "output_type": "execute_result"
    }
   ],
   "source": [
    "len(df_cleaned)"
   ]
  },
  {
   "cell_type": "code",
   "execution_count": 15,
   "metadata": {},
   "outputs": [
    {
     "data": {
      "text/plain": [
       "0       9202544253\n",
       "1       9206609186\n",
       "2       9206212335\n",
       "3       9202178523\n",
       "4       9206804717\n",
       "           ...    \n",
       "8510    9209466859\n",
       "8511    9206154550\n",
       "8512    9204194452\n",
       "8513    7154515423\n",
       "8515    9207641865\n",
       "Name: 0, Length: 8170, dtype: object"
      ]
     },
     "execution_count": 15,
     "metadata": {},
     "output_type": "execute_result"
    }
   ],
   "source": [
    "b = df_cleaned[0].astype(str)\n",
    "# b = '1' + b\n",
    "b"
   ]
  },
  {
   "cell_type": "code",
   "execution_count": 14,
   "metadata": {},
   "outputs": [
    {
     "data": {
      "text/plain": [
       "0       9202544253\n",
       "1       9206609186\n",
       "2       9206212335\n",
       "3       9202178523\n",
       "4       9206804717\n",
       "           ...    \n",
       "8684    9206154550\n",
       "8685    9204194452\n",
       "8686    7154515423\n",
       "8687    7152970070\n",
       "8688    9207641865\n",
       "Name: 0, Length: 8689, dtype: object"
      ]
     },
     "execution_count": 14,
     "metadata": {},
     "output_type": "execute_result"
    }
   ],
   "source": [
    "# Load the text file containing phone numbers\n",
    "text_file_path = 'Cellcom.txt'\n",
    "\n",
    "df_missing_check = pd.read_csv(text_file_path, header =None, delimiter='\\t')\n",
    "\n",
    "df_missing_check1 = df_missing_check.iloc[:, 0].astype(str).str.lstrip('1')\n",
    "\n",
    "a = df_missing_check1\n",
    "\n",
    "a\n",
    "\n",
    "\n"
   ]
  },
  {
   "cell_type": "code",
   "execution_count": 12,
   "metadata": {},
   "outputs": [
    {
     "data": {
      "text/html": [
       "<div>\n",
       "<style scoped>\n",
       "    .dataframe tbody tr th:only-of-type {\n",
       "        vertical-align: middle;\n",
       "    }\n",
       "\n",
       "    .dataframe tbody tr th {\n",
       "        vertical-align: top;\n",
       "    }\n",
       "\n",
       "    .dataframe thead th {\n",
       "        text-align: right;\n",
       "    }\n",
       "</style>\n",
       "<table border=\"1\" class=\"dataframe\">\n",
       "  <thead>\n",
       "    <tr style=\"text-align: right;\">\n",
       "      <th></th>\n",
       "      <th>0</th>\n",
       "      <th>1</th>\n",
       "    </tr>\n",
       "  </thead>\n",
       "  <tbody>\n",
       "    <tr>\n",
       "      <th>0</th>\n",
       "      <td>19202544253</td>\n",
       "      <td>53085</td>\n",
       "    </tr>\n",
       "    <tr>\n",
       "      <th>1</th>\n",
       "      <td>19206609186</td>\n",
       "      <td>54217</td>\n",
       "    </tr>\n",
       "    <tr>\n",
       "      <th>2</th>\n",
       "      <td>19206212335</td>\n",
       "      <td>54126</td>\n",
       "    </tr>\n",
       "    <tr>\n",
       "      <th>3</th>\n",
       "      <td>19202178523</td>\n",
       "      <td>54115</td>\n",
       "    </tr>\n",
       "    <tr>\n",
       "      <th>4</th>\n",
       "      <td>19206804717</td>\n",
       "      <td>54304</td>\n",
       "    </tr>\n",
       "    <tr>\n",
       "      <th>...</th>\n",
       "      <td>...</td>\n",
       "      <td>...</td>\n",
       "    </tr>\n",
       "    <tr>\n",
       "      <th>8684</th>\n",
       "      <td>19206154550</td>\n",
       "      <td>54311</td>\n",
       "    </tr>\n",
       "    <tr>\n",
       "      <th>8685</th>\n",
       "      <td>19204194452</td>\n",
       "      <td>54303</td>\n",
       "    </tr>\n",
       "    <tr>\n",
       "      <th>8686</th>\n",
       "      <td>17154515423</td>\n",
       "      <td>54494</td>\n",
       "    </tr>\n",
       "    <tr>\n",
       "      <th>8687</th>\n",
       "      <td>17152970070</td>\n",
       "      <td>57702</td>\n",
       "    </tr>\n",
       "    <tr>\n",
       "      <th>8688</th>\n",
       "      <td>19207641865</td>\n",
       "      <td>53081</td>\n",
       "    </tr>\n",
       "  </tbody>\n",
       "</table>\n",
       "<p>8689 rows × 2 columns</p>\n",
       "</div>"
      ],
      "text/plain": [
       "                0      1\n",
       "0     19202544253  53085\n",
       "1     19206609186  54217\n",
       "2     19206212335  54126\n",
       "3     19202178523  54115\n",
       "4     19206804717  54304\n",
       "...           ...    ...\n",
       "8684  19206154550  54311\n",
       "8685  19204194452  54303\n",
       "8686  17154515423  54494\n",
       "8687  17152970070  57702\n",
       "8688  19207641865  53081\n",
       "\n",
       "[8689 rows x 2 columns]"
      ]
     },
     "execution_count": 12,
     "metadata": {},
     "output_type": "execute_result"
    }
   ],
   "source": [
    "df_missing_check "
   ]
  },
  {
   "cell_type": "code",
   "execution_count": 7,
   "metadata": {},
   "outputs": [
    {
     "data": {
      "text/html": [
       "<div>\n",
       "<style scoped>\n",
       "    .dataframe tbody tr th:only-of-type {\n",
       "        vertical-align: middle;\n",
       "    }\n",
       "\n",
       "    .dataframe tbody tr th {\n",
       "        vertical-align: top;\n",
       "    }\n",
       "\n",
       "    .dataframe thead th {\n",
       "        text-align: right;\n",
       "    }\n",
       "</style>\n",
       "<table border=\"1\" class=\"dataframe\">\n",
       "  <thead>\n",
       "    <tr style=\"text-align: right;\">\n",
       "      <th></th>\n",
       "      <th>index</th>\n",
       "      <th>0</th>\n",
       "    </tr>\n",
       "  </thead>\n",
       "  <tbody>\n",
       "    <tr>\n",
       "      <th>0</th>\n",
       "      <td>16</td>\n",
       "      <td>7158532999</td>\n",
       "    </tr>\n",
       "    <tr>\n",
       "      <th>1</th>\n",
       "      <td>40</td>\n",
       "      <td>9202030929</td>\n",
       "    </tr>\n",
       "    <tr>\n",
       "      <th>2</th>\n",
       "      <td>67</td>\n",
       "      <td>9202100644</td>\n",
       "    </tr>\n",
       "    <tr>\n",
       "      <th>3</th>\n",
       "      <td>84</td>\n",
       "      <td>7156133116</td>\n",
       "    </tr>\n",
       "    <tr>\n",
       "      <th>4</th>\n",
       "      <td>176</td>\n",
       "      <td>7155845671</td>\n",
       "    </tr>\n",
       "    <tr>\n",
       "      <th>...</th>\n",
       "      <td>...</td>\n",
       "      <td>...</td>\n",
       "    </tr>\n",
       "    <tr>\n",
       "      <th>156</th>\n",
       "      <td>8312</td>\n",
       "      <td>7153605787</td>\n",
       "    </tr>\n",
       "    <tr>\n",
       "      <th>157</th>\n",
       "      <td>8400</td>\n",
       "      <td>7155813590</td>\n",
       "    </tr>\n",
       "    <tr>\n",
       "      <th>158</th>\n",
       "      <td>8515</td>\n",
       "      <td>7159277002</td>\n",
       "    </tr>\n",
       "    <tr>\n",
       "      <th>159</th>\n",
       "      <td>8571</td>\n",
       "      <td>9206091860</td>\n",
       "    </tr>\n",
       "    <tr>\n",
       "      <th>160</th>\n",
       "      <td>8674</td>\n",
       "      <td>6085759633</td>\n",
       "    </tr>\n",
       "  </tbody>\n",
       "</table>\n",
       "<p>161 rows × 2 columns</p>\n",
       "</div>"
      ],
      "text/plain": [
       "     index           0\n",
       "0       16  7158532999\n",
       "1       40  9202030929\n",
       "2       67  9202100644\n",
       "3       84  7156133116\n",
       "4      176  7155845671\n",
       "..     ...         ...\n",
       "156   8312  7153605787\n",
       "157   8400  7155813590\n",
       "158   8515  7159277002\n",
       "159   8571  9206091860\n",
       "160   8674  6085759633\n",
       "\n",
       "[161 rows x 2 columns]"
      ]
     },
     "execution_count": 7,
     "metadata": {},
     "output_type": "execute_result"
    }
   ],
   "source": [
    "# To find all elements in dataframe A (df_cleaned) but not in dataframe B (assuming a similar structure),\n",
    "# we will compare the 'phone_number' column of both dataframes.\n",
    "\n",
    "# For demonstration, let's create a sample dataframe B with a similar structure to df_cleaned\n",
    "# This will have some overlapping and some unique phone numbers\n",
    "\n",
    "\n",
    "# Find elements in df_cleaned that are not in df_b\n",
    "unique_in_df_cleaned = a[~a.isin(b)]\n",
    "\n",
    "unique_in_df_cleaned= unique_in_df_cleaned.reset_index()  # Display the first few rows of the unique elements\n",
    "\n",
    "unique_in_df_cleaned\n"
   ]
  },
  {
   "cell_type": "code",
   "execution_count": 8,
   "metadata": {},
   "outputs": [
    {
     "data": {
      "text/plain": [
       "0        16\n",
       "1        40\n",
       "2        67\n",
       "3        84\n",
       "4       176\n",
       "       ... \n",
       "156    8312\n",
       "157    8400\n",
       "158    8515\n",
       "159    8571\n",
       "160    8674\n",
       "Name: index, Length: 161, dtype: int64"
      ]
     },
     "execution_count": 8,
     "metadata": {},
     "output_type": "execute_result"
    }
   ],
   "source": [
    "unique_in_df_cleaned[\"index\"]"
   ]
  },
  {
   "cell_type": "code",
   "execution_count": 9,
   "metadata": {},
   "outputs": [
    {
     "data": {
      "text/plain": [
       "0      7158532999\n",
       "1      9202030929\n",
       "2      9202100644\n",
       "3      7156133116\n",
       "4      7155845671\n",
       "          ...    \n",
       "156    7153605787\n",
       "157    7155813590\n",
       "158    7159277002\n",
       "159    9206091860\n",
       "160    6085759633\n",
       "Name: 0, Length: 161, dtype: object"
      ]
     },
     "execution_count": 9,
     "metadata": {},
     "output_type": "execute_result"
    }
   ],
   "source": [
    "# Dropping the column\n",
    "unique_in_df_cleaned = unique_in_df_cleaned[0]\n",
    "# Displaying the first few rows to confirm the change\n",
    "unique_in_df_cleaned"
   ]
  },
  {
   "cell_type": "code",
   "execution_count": 10,
   "metadata": {},
   "outputs": [
    {
     "data": {
      "text/plain": [
       "0      17158532999\n",
       "1      19202030929\n",
       "2      19202100644\n",
       "3      17156133116\n",
       "4      17155845671\n",
       "          ...     \n",
       "156    17153605787\n",
       "157    17155813590\n",
       "158    17159277002\n",
       "159    19206091860\n",
       "160    16085759633\n",
       "Name: 0, Length: 161, dtype: object"
      ]
     },
     "execution_count": 10,
     "metadata": {},
     "output_type": "execute_result"
    }
   ],
   "source": [
    "unique_in_df_cleaned = '1' + unique_in_df_cleaned\n",
    "unique_in_df_cleaned"
   ]
  },
  {
   "cell_type": "code",
   "execution_count": 17,
   "metadata": {},
   "outputs": [
    {
     "data": {
      "text/plain": [
       "0       19202544253\n",
       "1       19206609186\n",
       "2       19206212335\n",
       "3       19202178523\n",
       "4       19206804717\n",
       "           ...     \n",
       "8510    19209466859\n",
       "8511    19206154550\n",
       "8512    19204194452\n",
       "8513    17154515423\n",
       "8515    19207641865\n",
       "Name: 0, Length: 8170, dtype: object"
      ]
     },
     "execution_count": 17,
     "metadata": {},
     "output_type": "execute_result"
    }
   ],
   "source": [
    "b = '1'+b\n",
    "b"
   ]
  },
  {
   "cell_type": "code",
   "execution_count": 22,
   "metadata": {},
   "outputs": [],
   "source": [
    "df_missing_check[0] = df_missing_check[0].astype(str)"
   ]
  },
  {
   "cell_type": "code",
   "execution_count": 23,
   "metadata": {},
   "outputs": [
    {
     "data": {
      "text/html": [
       "<div>\n",
       "<style scoped>\n",
       "    .dataframe tbody tr th:only-of-type {\n",
       "        vertical-align: middle;\n",
       "    }\n",
       "\n",
       "    .dataframe tbody tr th {\n",
       "        vertical-align: top;\n",
       "    }\n",
       "\n",
       "    .dataframe thead th {\n",
       "        text-align: right;\n",
       "    }\n",
       "</style>\n",
       "<table border=\"1\" class=\"dataframe\">\n",
       "  <thead>\n",
       "    <tr style=\"text-align: right;\">\n",
       "      <th></th>\n",
       "      <th>0</th>\n",
       "      <th>1</th>\n",
       "    </tr>\n",
       "  </thead>\n",
       "  <tbody>\n",
       "    <tr>\n",
       "      <th>16</th>\n",
       "      <td>17158532999</td>\n",
       "      <td>54104</td>\n",
       "    </tr>\n",
       "    <tr>\n",
       "      <th>40</th>\n",
       "      <td>19202030929</td>\n",
       "      <td>54902</td>\n",
       "    </tr>\n",
       "    <tr>\n",
       "      <th>67</th>\n",
       "      <td>19202100644</td>\n",
       "      <td>54235</td>\n",
       "    </tr>\n",
       "    <tr>\n",
       "      <th>84</th>\n",
       "      <td>17156133116</td>\n",
       "      <td>54405</td>\n",
       "    </tr>\n",
       "    <tr>\n",
       "      <th>176</th>\n",
       "      <td>17155845671</td>\n",
       "      <td>53014</td>\n",
       "    </tr>\n",
       "    <tr>\n",
       "      <th>...</th>\n",
       "      <td>...</td>\n",
       "      <td>...</td>\n",
       "    </tr>\n",
       "    <tr>\n",
       "      <th>8312</th>\n",
       "      <td>17153605787</td>\n",
       "      <td>54501</td>\n",
       "    </tr>\n",
       "    <tr>\n",
       "      <th>8400</th>\n",
       "      <td>17155813590</td>\n",
       "      <td>54476</td>\n",
       "    </tr>\n",
       "    <tr>\n",
       "      <th>8515</th>\n",
       "      <td>17159277002</td>\n",
       "      <td>54143</td>\n",
       "    </tr>\n",
       "    <tr>\n",
       "      <th>8571</th>\n",
       "      <td>19206091860</td>\n",
       "      <td>54121</td>\n",
       "    </tr>\n",
       "    <tr>\n",
       "      <th>8674</th>\n",
       "      <td>16085759633</td>\n",
       "      <td>53590</td>\n",
       "    </tr>\n",
       "  </tbody>\n",
       "</table>\n",
       "<p>161 rows × 2 columns</p>\n",
       "</div>"
      ],
      "text/plain": [
       "                0      1\n",
       "16    17158532999  54104\n",
       "40    19202030929  54902\n",
       "67    19202100644  54235\n",
       "84    17156133116  54405\n",
       "176   17155845671  53014\n",
       "...           ...    ...\n",
       "8312  17153605787  54501\n",
       "8400  17155813590  54476\n",
       "8515  17159277002  54143\n",
       "8571  19206091860  54121\n",
       "8674  16085759633  53590\n",
       "\n",
       "[161 rows x 2 columns]"
      ]
     },
     "execution_count": 23,
     "metadata": {},
     "output_type": "execute_result"
    }
   ],
   "source": [
    "subset_df = df_missing_check[~df_missing_check [0].isin(b)]\n",
    "subset_df "
   ]
  },
  {
   "cell_type": "code",
   "execution_count": 25,
   "metadata": {},
   "outputs": [],
   "source": [
    "subset_df.to_csv('Cellcom_missing_numbers.csv',header=None, index=False)"
   ]
  }
 ],
 "metadata": {
  "kernelspec": {
   "display_name": "base",
   "language": "python",
   "name": "python3"
  },
  "language_info": {
   "codemirror_mode": {
    "name": "ipython",
    "version": 3
   },
   "file_extension": ".py",
   "mimetype": "text/x-python",
   "name": "python",
   "nbconvert_exporter": "python",
   "pygments_lexer": "ipython3",
   "version": "3.9.13"
  }
 },
 "nbformat": 4,
 "nbformat_minor": 2
}
