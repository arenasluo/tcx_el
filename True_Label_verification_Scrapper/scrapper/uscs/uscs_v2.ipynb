{
 "cells": [
  {
   "cell_type": "code",
   "execution_count": 4,
   "metadata": {},
   "outputs": [],
   "source": [
    "\n",
    "import time\n",
    "from selenium import webdriver\n",
    "from selenium.webdriver.common.by import By\n",
    "from selenium.webdriver.common.keys import Keys\n",
    "from selenium.webdriver.support.ui import WebDriverWait\n",
    "from selenium.webdriver.support import expected_conditions as EC\n",
    "from selenium.common.exceptions import TimeoutException\n",
    "import pandas as pd"
   ]
  },
  {
   "cell_type": "code",
   "execution_count": 5,
   "metadata": {},
   "outputs": [],
   "source": [
    "# Function to get error code based on the error message\n",
    "def get_error_code(error_message):\n",
    "    if 'billed customer' in error_message:\n",
    "        return 0\n",
    "    elif 'Phone number not valid' in error_message:\n",
    "        return 1\n",
    "    elif 'no longer in service' in error_message:\n",
    "        return 2\n",
    "    elif 'No errors, it is a prepaid number' in error_message:\n",
    "        return 3\n",
    "    else:\n",
    "        return -1  # Unknown error message\n"
   ]
  },
  {
   "cell_type": "code",
   "execution_count": 14,
   "metadata": {},
   "outputs": [
    {
     "name": "stdout",
     "output_type": "stream",
     "text": [
      "An error occurred: too many values to unpack (expected 2)\n"
     ]
    }
   ],
   "source": [
    "# Read phone numbers from file and remove country code\n",
    "with open('USCCphonenumber.txt', 'r') as file:\n",
    "    phone_numbers = [line.strip()[1:] if line.strip().startswith('1') else line.strip() for line in file][70:75]\n",
    "phone_numbers\n",
    "\n",
    "# Initialize WebDriver\n",
    "options = webdriver.ChromeOptions()\n",
    "options.headless = True  \n",
    "driver = webdriver.Chrome(options=options)\n",
    "driver.get('https://prepaid.uscellular.com/refill/dashboard')\n",
    "\n",
    "\n",
    "results = []\n",
    "\n",
    "try:\n",
    "    # Reject cookies\n",
    "    WebDriverWait(driver, 5).until(\n",
    "        EC.element_to_be_clickable((By.ID, \"onetrust-reject-all-handler\"))\n",
    "    ).click()\n",
    "\n",
    "    # for index, phone_number in phone_numbers:\n",
    "    for phone_number in phone_numbers:\n",
    "\n",
    "        # phone number input field\n",
    "        phone_input_field = WebDriverWait(driver, 10).until(\n",
    "            EC.presence_of_element_located((By.NAME, \"phone\"))\n",
    "        )\n",
    "        phone_input_field.click()  # Focus on the input field\n",
    "\n",
    "        # Clear the input field first\n",
    "        phone_input_field.send_keys(Keys.CONTROL + \"a\")\n",
    "        phone_input_field.send_keys(Keys.DELETE)\n",
    "\n",
    "        # Input phone number by numbers one by one\n",
    "        for char in phone_number:\n",
    "            phone_input_field.send_keys(char)\n",
    "            time.sleep(0.5)  # Small delay between each character\n",
    "\n",
    "        # Initialize default error message\n",
    "        error_message = \"No errors, it is a prepaid number\"\n",
    "        error_code = get_error_code(error_message)  # Get error code\n",
    "\n",
    "        # Check for an error message, wait up to 5 seconds\n",
    "        try:\n",
    "            error_message_xpath = \"/html/body/div[1]/main/div[1]/div/div[2]/div/div[2]/div[1]/div/div[2]/div/div/div/div/form/div[1]/div[1]/div[2]\"\n",
    "            error_message_element = WebDriverWait(driver, 10).until(\n",
    "                EC.visibility_of_element_located((By.XPATH, error_message_xpath))\n",
    "            )\n",
    "            if error_message_element.text.strip():  # If there's text in the error element\n",
    "                error_message = error_message_element.text\n",
    "                error_code = get_error_code(error_message)  # Update error code\n",
    "        except TimeoutException:\n",
    "            # If no error message appeared within 5 seconds, assume no error\n",
    "            pass\n",
    "\n",
    "\n",
    "        results.append((phone_number, error_code))\n",
    "        # driver.refresh()\n",
    "        # next number\n",
    "        # phone_input_field.send_keys(Keys.CONTROL + \"a\")\n",
    "        # phone_input_field.send_keys(Keys.DELETE)\n",
    "\n",
    "        # if (index + 1) % 5 == 0:\n",
    "        #     time.sleep(20)        \n",
    "\n",
    "except Exception as e:\n",
    "    print(f\"An error occurred: {e}\")\n",
    "finally:\n",
    "    # close the browser.\n",
    "    driver.quit()\n"
   ]
  },
  {
   "cell_type": "code",
   "execution_count": null,
   "metadata": {},
   "outputs": [],
   "source": [
    "# Convert the results to a DataFrame \n",
    "df_results = pd.DataFrame(results, columns=['Phone Number', 'Error Code'])\n",
    "print(df_results)"
   ]
  },
  {
   "cell_type": "code",
   "execution_count": 3,
   "metadata": {},
   "outputs": [
    {
     "data": {
      "text/html": [
       "<div>\n",
       "<style scoped>\n",
       "    .dataframe tbody tr th:only-of-type {\n",
       "        vertical-align: middle;\n",
       "    }\n",
       "\n",
       "    .dataframe tbody tr th {\n",
       "        vertical-align: top;\n",
       "    }\n",
       "\n",
       "    .dataframe thead th {\n",
       "        text-align: right;\n",
       "    }\n",
       "</style>\n",
       "<table border=\"1\" class=\"dataframe\">\n",
       "  <thead>\n",
       "    <tr style=\"text-align: right;\">\n",
       "      <th></th>\n",
       "      <th>Phone Number</th>\n",
       "      <th>Error Code</th>\n",
       "    </tr>\n",
       "  </thead>\n",
       "  <tbody>\n",
       "    <tr>\n",
       "      <th>0</th>\n",
       "      <td>4148409537</td>\n",
       "      <td>3</td>\n",
       "    </tr>\n",
       "    <tr>\n",
       "      <th>1</th>\n",
       "      <td>5312715085</td>\n",
       "      <td>0</td>\n",
       "    </tr>\n",
       "    <tr>\n",
       "      <th>2</th>\n",
       "      <td>2173230406</td>\n",
       "      <td>3</td>\n",
       "    </tr>\n",
       "    <tr>\n",
       "      <th>3</th>\n",
       "      <td>6416804648</td>\n",
       "      <td>0</td>\n",
       "    </tr>\n",
       "    <tr>\n",
       "      <th>4</th>\n",
       "      <td>6086695946</td>\n",
       "      <td>0</td>\n",
       "    </tr>\n",
       "    <tr>\n",
       "      <th>5</th>\n",
       "      <td>6202284652</td>\n",
       "      <td>0</td>\n",
       "    </tr>\n",
       "    <tr>\n",
       "      <th>6</th>\n",
       "      <td>4176318577</td>\n",
       "      <td>2</td>\n",
       "    </tr>\n",
       "    <tr>\n",
       "      <th>7</th>\n",
       "      <td>5804657697</td>\n",
       "      <td>0</td>\n",
       "    </tr>\n",
       "    <tr>\n",
       "      <th>8</th>\n",
       "      <td>3085896731</td>\n",
       "      <td>0</td>\n",
       "    </tr>\n",
       "    <tr>\n",
       "      <th>9</th>\n",
       "      <td>5403923882</td>\n",
       "      <td>3</td>\n",
       "    </tr>\n",
       "  </tbody>\n",
       "</table>\n",
       "</div>"
      ],
      "text/plain": [
       "  Phone Number  Error Code\n",
       "0   4148409537           3\n",
       "1   5312715085           0\n",
       "2   2173230406           3\n",
       "3   6416804648           0\n",
       "4   6086695946           0\n",
       "5   6202284652           0\n",
       "6   4176318577           2\n",
       "7   5804657697           0\n",
       "8   3085896731           0\n",
       "9   5403923882           3"
      ]
     },
     "execution_count": 3,
     "metadata": {},
     "output_type": "execute_result"
    }
   ],
   "source": [
    "df_results"
   ]
  },
  {
   "cell_type": "code",
   "execution_count": 11,
   "metadata": {},
   "outputs": [
    {
     "name": "stdout",
     "output_type": "stream",
     "text": [
      "Results have been saved to query_result.csv\n"
     ]
    }
   ],
   "source": [
    "# df_results = pd.DataFrame(results, columns=['Phone Number', 'Error Code'])\n",
    "# df_results.to_csv('query_result.csv', index=True)  \n",
    "# print(\"Results have been saved to query_result.csv\")\n"
   ]
  },
  {
   "cell_type": "code",
   "execution_count": 37,
   "metadata": {},
   "outputs": [
    {
     "data": {
      "text/plain": [
       "['2623252695', '3196662892', '6033814025', '5158224253', '3192155756']"
      ]
     },
     "execution_count": 37,
     "metadata": {},
     "output_type": "execute_result"
    }
   ],
   "source": [
    "# with open('USCCphonenumber.txt', 'r') as file:\n",
    "#     phone_numbers = [line.strip()[1:] if line.strip().startswith('1') else line.strip() for line in file][10:15]\n",
    "# phone_numbers"
   ]
  },
  {
   "cell_type": "code",
   "execution_count": 1,
   "metadata": {},
   "outputs": [
    {
     "ename": "NameError",
     "evalue": "name 'pd' is not defined",
     "output_type": "error",
     "traceback": [
      "\u001b[1;31m---------------------------------------------------------------------------\u001b[0m",
      "\u001b[1;31mNameError\u001b[0m                                 Traceback (most recent call last)",
      "\u001b[1;32m~\\AppData\\Local\\Temp\\ipykernel_32552\\2355543108.py\u001b[0m in \u001b[0;36m<module>\u001b[1;34m\u001b[0m\n\u001b[0;32m      3\u001b[0m \u001b[0mcsv_file_path\u001b[0m \u001b[1;33m=\u001b[0m \u001b[1;34m'query_result.csv'\u001b[0m\u001b[1;33m\u001b[0m\u001b[1;33m\u001b[0m\u001b[0m\n\u001b[0;32m      4\u001b[0m \u001b[1;33m\u001b[0m\u001b[0m\n\u001b[1;32m----> 5\u001b[1;33m \u001b[0mdf_results\u001b[0m \u001b[1;33m=\u001b[0m \u001b[0mpd\u001b[0m\u001b[1;33m.\u001b[0m\u001b[0mDataFrame\u001b[0m\u001b[1;33m(\u001b[0m\u001b[0mresults\u001b[0m\u001b[1;33m,\u001b[0m \u001b[0mcolumns\u001b[0m\u001b[1;33m=\u001b[0m\u001b[1;33m[\u001b[0m\u001b[1;34m'Phone Number'\u001b[0m\u001b[1;33m,\u001b[0m \u001b[1;34m'Error Code'\u001b[0m\u001b[1;33m]\u001b[0m\u001b[1;33m)\u001b[0m\u001b[1;33m\u001b[0m\u001b[1;33m\u001b[0m\u001b[0m\n\u001b[0m\u001b[0;32m      6\u001b[0m \u001b[1;32mif\u001b[0m \u001b[0mos\u001b[0m\u001b[1;33m.\u001b[0m\u001b[0mpath\u001b[0m\u001b[1;33m.\u001b[0m\u001b[0mexists\u001b[0m\u001b[1;33m(\u001b[0m\u001b[0mcsv_file_path\u001b[0m\u001b[1;33m)\u001b[0m\u001b[1;33m:\u001b[0m\u001b[1;33m\u001b[0m\u001b[1;33m\u001b[0m\u001b[0m\n\u001b[0;32m      7\u001b[0m     \u001b[0mdf_existing\u001b[0m \u001b[1;33m=\u001b[0m \u001b[0mpd\u001b[0m\u001b[1;33m.\u001b[0m\u001b[0mread_csv\u001b[0m\u001b[1;33m(\u001b[0m\u001b[0mcsv_file_path\u001b[0m\u001b[1;33m)\u001b[0m\u001b[1;33m\u001b[0m\u001b[1;33m\u001b[0m\u001b[0m\n",
      "\u001b[1;31mNameError\u001b[0m: name 'pd' is not defined"
     ]
    }
   ],
   "source": [
    "import os\n",
    "\n",
    "csv_file_path = 'query_result.csv'\n",
    "\n",
    "df_results = pd.DataFrame(results, columns=['Phone Number', 'Error Code'])\n",
    "if os.path.exists(csv_file_path):\n",
    "    df_existing = pd.read_csv(csv_file_path)\n",
    "    \n",
    "    last_index = df_existing.index[-1] if not df_existing.empty else -1\n",
    "\n",
    "    df_results.index = range(last_index + 1, last_index + 1 + len(df_results))\n",
    "    \n",
    "    # Append the new results to the existing DataFrame\n",
    "    df_final = df_existing.append(df_results)\n",
    "    df_final = df_final.iloc[last_index + 1:,1:]\n",
    "else:\n",
    "    df_final = df_results\n",
    "    df_final.index = range(len(df_final))\n",
    "\n",
    "# Output to CSV, without overwriting existing data and with continuous indexing\n",
    "df_final.to_csv(csv_file_path, index_label='Index', mode='w' if not os.path.exists(csv_file_path) else 'a', header=not os.path.exists(csv_file_path))\n",
    "\n",
    "print(f\"Results have been appended to {csv_file_path}\")\n"
   ]
  },
  {
   "cell_type": "code",
   "execution_count": null,
   "metadata": {},
   "outputs": [],
   "source": []
  }
 ],
 "metadata": {
  "kernelspec": {
   "display_name": "base",
   "language": "python",
   "name": "python3"
  },
  "language_info": {
   "codemirror_mode": {
    "name": "ipython",
    "version": 3
   },
   "file_extension": ".py",
   "mimetype": "text/x-python",
   "name": "python",
   "nbconvert_exporter": "python",
   "pygments_lexer": "ipython3",
   "version": "3.9.13"
  }
 },
 "nbformat": 4,
 "nbformat_minor": 2
}
