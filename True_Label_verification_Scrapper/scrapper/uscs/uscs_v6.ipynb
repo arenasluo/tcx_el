{
 "cells": [
  {
   "cell_type": "code",
   "execution_count": 1,
   "metadata": {},
   "outputs": [],
   "source": [
    "\n",
    "import time\n",
    "from selenium import webdriver\n",
    "from selenium.webdriver.common.by import By\n",
    "from selenium.webdriver.common.keys import Keys\n",
    "from selenium.webdriver.support.ui import WebDriverWait\n",
    "from selenium.webdriver.support import expected_conditions as EC\n",
    "from selenium.common.exceptions import TimeoutException\n",
    "import pandas as pd\n",
    "import random"
   ]
  },
  {
   "cell_type": "code",
   "execution_count": 2,
   "metadata": {},
   "outputs": [],
   "source": [
    "# Function to get error code based on the error message\n",
    "def get_error_code(error_message):\n",
    "    if 'It looks like you’re a UScellular billed customer. To utilize Quick Pay for our billed customers' in error_message:\n",
    "        return 1\n",
    "    elif 'Phone number not valid' in error_message:\n",
    "        return 3\n",
    "    elif 'This number is no longer in service' in error_message:\n",
    "        return 2\n",
    "    elif 'Please verify you are a human before continuing' in error_message:\n",
    "        return 4    \n",
    "    elif 'No errors, it is a prepaid number' in error_message:\n",
    "        return 0\n",
    "    else:\n",
    "        return -1  # Unknown error message\n",
    "csv_file_path = 'uscs_query_result.csv'"
   ]
  },
  {
   "cell_type": "code",
   "execution_count": 3,
   "metadata": {},
   "outputs": [
    {
     "data": {
      "text/plain": [
       "'4022147803'"
      ]
     },
     "execution_count": 3,
     "metadata": {},
     "output_type": "execute_result"
    }
   ],
   "source": [
    "# # Read phone numbers from file and remove country code\n",
    "# with open('test_panel_usus.txt', 'r') as file:\n",
    "#     phone_numbers = [line.strip()[1:] if line.strip().startswith('1') else line.strip() for line in file]\n",
    "# len(phone_numbers)\n",
    "\n",
    "# Read phone numbers from file and remove country code\n",
    "with open('test_panel_usus.txt', 'r') as file:\n",
    "    phone_numbers = [line.strip()[1:] if line.strip().startswith('1') else line.strip() for line in file][64:]\n",
    "phone_numbers[0]"
   ]
  },
  {
   "cell_type": "code",
   "execution_count": 5,
   "metadata": {},
   "outputs": [
    {
     "name": "stdout",
     "output_type": "stream",
     "text": [
      "Processing phone number 4022147803 at index 0\n",
      "It looks like you’re a UScellular billed customer. To utilize Quick Pay for our billed customers Click Here\n",
      "4022147803 1 It looks like you’re a UScellular billed customer. To utilize Quick Pay for our billed customers Click Here\n",
      "Processing phone number 3095076943 at index 1\n",
      "It looks like you’re a UScellular billed customer. To utilize Quick Pay for our billed customers Click Here\n",
      "3095076943 1 It looks like you’re a UScellular billed customer. To utilize Quick Pay for our billed customers Click Here\n",
      "Processing phone number 4237216670 at index 2\n"
     ]
    },
    {
     "name": "stderr",
     "output_type": "stream",
     "text": [
      "Exception ignored in: <function Service.__del__ at 0x00000260716F0820>\n",
      "Traceback (most recent call last):\n",
      "  File \"C:\\Users\\ericluo\\AppData\\Roaming\\Python\\Python39\\site-packages\\selenium\\webdriver\\common\\service.py\", line 185, in __del__\n",
      "    self.stop()\n",
      "  File \"C:\\Users\\ericluo\\AppData\\Roaming\\Python\\Python39\\site-packages\\selenium\\webdriver\\common\\service.py\", line 146, in stop\n",
      "    self.send_remote_shutdown_command()\n",
      "  File \"C:\\Users\\ericluo\\AppData\\Roaming\\Python\\Python39\\site-packages\\selenium\\webdriver\\common\\service.py\", line 126, in send_remote_shutdown_command\n",
      "    request.urlopen(f\"{self.service_url}/shutdown\")\n",
      "  File \"c:\\ProgramData\\Anaconda3\\lib\\urllib\\request.py\", line 214, in urlopen\n",
      "    return opener.open(url, data, timeout)\n",
      "  File \"c:\\ProgramData\\Anaconda3\\lib\\urllib\\request.py\", line 517, in open\n",
      "    response = self._open(req, data)\n",
      "  File \"c:\\ProgramData\\Anaconda3\\lib\\urllib\\request.py\", line 534, in _open\n",
      "    result = self._call_chain(self.handle_open, protocol, protocol +\n",
      "  File \"c:\\ProgramData\\Anaconda3\\lib\\urllib\\request.py\", line 494, in _call_chain\n",
      "    result = func(*args)\n",
      "  File \"c:\\ProgramData\\Anaconda3\\lib\\urllib\\request.py\", line 1375, in http_open\n",
      "    return self.do_open(http.client.HTTPConnection, req)\n",
      "  File \"c:\\ProgramData\\Anaconda3\\lib\\urllib\\request.py\", line 1346, in do_open\n",
      "    h.request(req.get_method(), req.selector, req.data, headers,\n",
      "  File \"c:\\ProgramData\\Anaconda3\\lib\\http\\client.py\", line 1285, in request\n",
      "    self._send_request(method, url, body, headers, encode_chunked)\n",
      "  File \"c:\\ProgramData\\Anaconda3\\lib\\http\\client.py\", line 1331, in _send_request\n",
      "    self.endheaders(body, encode_chunked=encode_chunked)\n",
      "  File \"c:\\ProgramData\\Anaconda3\\lib\\http\\client.py\", line 1280, in endheaders\n",
      "    self._send_output(message_body, encode_chunked=encode_chunked)\n",
      "  File \"c:\\ProgramData\\Anaconda3\\lib\\http\\client.py\", line 1040, in _send_output\n",
      "    self.send(msg)\n",
      "  File \"c:\\ProgramData\\Anaconda3\\lib\\http\\client.py\", line 980, in send\n",
      "    self.connect()\n",
      "  File \"c:\\ProgramData\\Anaconda3\\lib\\http\\client.py\", line 946, in connect\n",
      "    self.sock = self._create_connection(\n",
      "  File \"c:\\ProgramData\\Anaconda3\\lib\\socket.py\", line 832, in create_connection\n",
      "    sock.connect(sa)\n",
      "KeyboardInterrupt: \n"
     ]
    },
    {
     "name": "stdout",
     "output_type": "stream",
     "text": [
      "Phone number not valid\n",
      "4237216670 3 Phone number not valid\n",
      "Processing phone number 9209051343 at index 3\n",
      "It looks like you’re a UScellular billed customer. To utilize Quick Pay for our billed customers Click Here\n",
      "9209051343 1 It looks like you’re a UScellular billed customer. To utilize Quick Pay for our billed customers Click Here\n",
      "Processing phone number 4172242561 at index 4\n"
     ]
    },
    {
     "ename": "KeyboardInterrupt",
     "evalue": "",
     "output_type": "error",
     "traceback": [
      "\u001b[1;31m---------------------------------------------------------------------------\u001b[0m",
      "\u001b[1;31mKeyboardInterrupt\u001b[0m                         Traceback (most recent call last)",
      "\u001b[1;32m~\\AppData\\Local\\Temp\\ipykernel_29136\\2321140330.py\u001b[0m in \u001b[0;36m<module>\u001b[1;34m\u001b[0m\n\u001b[0;32m     38\u001b[0m         \u001b[1;32mfor\u001b[0m \u001b[0mchar\u001b[0m \u001b[1;32min\u001b[0m \u001b[0mphone_number\u001b[0m\u001b[1;33m:\u001b[0m\u001b[1;33m\u001b[0m\u001b[1;33m\u001b[0m\u001b[0m\n\u001b[0;32m     39\u001b[0m             \u001b[0mphone_input_field\u001b[0m\u001b[1;33m.\u001b[0m\u001b[0msend_keys\u001b[0m\u001b[1;33m(\u001b[0m\u001b[0mchar\u001b[0m\u001b[1;33m)\u001b[0m\u001b[1;33m\u001b[0m\u001b[1;33m\u001b[0m\u001b[0m\n\u001b[1;32m---> 40\u001b[1;33m             \u001b[0mtime\u001b[0m\u001b[1;33m.\u001b[0m\u001b[0msleep\u001b[0m\u001b[1;33m(\u001b[0m\u001b[0mrandom\u001b[0m\u001b[1;33m.\u001b[0m\u001b[0muniform\u001b[0m\u001b[1;33m(\u001b[0m\u001b[1;36m0.3\u001b[0m\u001b[1;33m,\u001b[0m \u001b[1;36m1\u001b[0m\u001b[1;33m)\u001b[0m\u001b[1;33m)\u001b[0m  \u001b[1;31m# Small delay between each character\u001b[0m\u001b[1;33m\u001b[0m\u001b[1;33m\u001b[0m\u001b[0m\n\u001b[0m\u001b[0;32m     41\u001b[0m \u001b[1;33m\u001b[0m\u001b[0m\n\u001b[0;32m     42\u001b[0m         \u001b[1;31m# default error message\u001b[0m\u001b[1;33m\u001b[0m\u001b[1;33m\u001b[0m\u001b[0m\n",
      "\u001b[1;31mKeyboardInterrupt\u001b[0m: "
     ]
    }
   ],
   "source": [
    "\n",
    "\n",
    "options = webdriver.ChromeOptions()\n",
    "options.headless = True\n",
    "\n",
    "results = []\n",
    "consecutive_error_count = 0\n",
    "current_index = 0  # Initialize the index to keep track of the current phone number\n",
    "\n",
    "def init_driver():\n",
    "    \"\"\"Initialize the Chrome WebDriver.\"\"\"\n",
    "    driver = webdriver.Chrome(options=options)\n",
    "    driver.get('https://prepaid.uscellular.com/refill/dashboard')\n",
    "    WebDriverWait(driver, 5).until(\n",
    "        EC.element_to_be_clickable((By.ID, \"onetrust-reject-all-handler\"))\n",
    "    ).click()\n",
    "    return driver\n",
    "\n",
    "# Initialize the WebDriver for the first time\n",
    "driver = init_driver()\n",
    "\n",
    "\n",
    "while current_index < len(phone_numbers):\n",
    "    try:\n",
    "        phone_number = phone_numbers[current_index]\n",
    "        print(f\"Processing phone number {phone_number} at index {current_index}\")\n",
    "\n",
    "        # phone number input field\n",
    "        phone_input_field = WebDriverWait(driver, 10).until(\n",
    "            EC.presence_of_element_located((By.NAME, \"phone\"))\n",
    "        )\n",
    "        phone_input_field.click()  # Focus on the input field\n",
    "\n",
    "        # Clear the input field\n",
    "        phone_input_field.send_keys(Keys.CONTROL + \"a\")\n",
    "        phone_input_field.send_keys(Keys.DELETE)\n",
    "       \n",
    "        # Clear the input field and input phone number\n",
    "        # phone_input_field.clear()\n",
    "        for char in phone_number:\n",
    "            phone_input_field.send_keys(char)\n",
    "            time.sleep(random.uniform(0.3, 1))  # Small delay between each character\n",
    "\n",
    "        # default error message\n",
    "        # error_message = \"No errors, it is a prepaid number\"\n",
    "        # error_code = get_error_code(error_message)  # Get error code\n",
    "\n",
    "        # Check for an error message, wait up to 5 seconds\n",
    "        try:\n",
    "            error_message_xpath = \"/html/body/div[1]/main/div[1]/div/div[2]/div/div[2]/div[1]/div/div[2]/div/div/div/div/form/div[1]/div[1]/div[2]\"\n",
    "            error_message_element = WebDriverWait(driver, 10).until(\n",
    "                EC.visibility_of_element_located((By.XPATH, error_message_xpath))\n",
    "            )\n",
    "            if error_message_element.text.strip():  # If there's text in the error element\n",
    "                print(error_message_element.text)\n",
    "                error_message = error_message_element.text\n",
    "                error_code = get_error_code(error_message)  # Update error code\n",
    "        except TimeoutException:\n",
    "            # error_code == 0\n",
    "            # error_message = \"No errors, it is a prepaid number\"\n",
    "            # print(\"No errors, it is a prepaid number\")\n",
    "            print('Timeout')\n",
    "            current_index -= 1\n",
    "            # If no error message appeared within 5 seconds, assume no error\n",
    "            pass\n",
    "\n",
    "        # Reset consecutive error count if no error occurred\n",
    "        if error_code == 0:\n",
    "            consecutive_error_count = 0\n",
    "            current_index += 1  # Increment the index after processing\n",
    "\n",
    "        else:\n",
    "            consecutive_error_count += 1\n",
    "            if consecutive_error_count == 2:  # If three consecutive errors, reset\n",
    "                driver.quit()\n",
    "                time.sleep(random.uniform(20, 30))\n",
    "                driver = init_driver()\n",
    "                consecutive_error_count = 0\n",
    "                current_index += 1  # Increment the index after processing\n",
    "            else:\n",
    "                current_index += 1\n",
    "       \n",
    "        results.append((phone_number, error_code))\n",
    "        print(phone_number, error_code, error_message)\n",
    "\n",
    "\n",
    "    except Exception as e:\n",
    "        print(f\"An error occurred: {e}. Retrying the current phone number.\")\n",
    "        # current_index -= 1\n",
    "        driver.refresh()\n",
    "\n",
    "\n",
    "\n",
    "\n",
    "\n",
    "# Clean up\n",
    "driver.quit()\n",
    "\n"
   ]
  },
  {
   "cell_type": "code",
   "execution_count": 6,
   "metadata": {},
   "outputs": [
    {
     "data": {
      "text/html": [
       "<div>\n",
       "<style scoped>\n",
       "    .dataframe tbody tr th:only-of-type {\n",
       "        vertical-align: middle;\n",
       "    }\n",
       "\n",
       "    .dataframe tbody tr th {\n",
       "        vertical-align: top;\n",
       "    }\n",
       "\n",
       "    .dataframe thead th {\n",
       "        text-align: right;\n",
       "    }\n",
       "</style>\n",
       "<table border=\"1\" class=\"dataframe\">\n",
       "  <thead>\n",
       "    <tr style=\"text-align: right;\">\n",
       "      <th></th>\n",
       "      <th>Phone Number</th>\n",
       "      <th>Error Code</th>\n",
       "    </tr>\n",
       "  </thead>\n",
       "  <tbody>\n",
       "    <tr>\n",
       "      <th>0</th>\n",
       "      <td>4022147803</td>\n",
       "      <td>1</td>\n",
       "    </tr>\n",
       "    <tr>\n",
       "      <th>1</th>\n",
       "      <td>3095076943</td>\n",
       "      <td>1</td>\n",
       "    </tr>\n",
       "    <tr>\n",
       "      <th>2</th>\n",
       "      <td>4237216670</td>\n",
       "      <td>3</td>\n",
       "    </tr>\n",
       "    <tr>\n",
       "      <th>3</th>\n",
       "      <td>9209051343</td>\n",
       "      <td>1</td>\n",
       "    </tr>\n",
       "  </tbody>\n",
       "</table>\n",
       "</div>"
      ],
      "text/plain": [
       "  Phone Number  Error Code\n",
       "0   4022147803           1\n",
       "1   3095076943           1\n",
       "2   4237216670           3\n",
       "3   9209051343           1"
      ]
     },
     "execution_count": 6,
     "metadata": {},
     "output_type": "execute_result"
    }
   ],
   "source": [
    "df_results = pd.DataFrame(results, columns=['Phone Number', 'Error Code'])\n",
    "df_results.drop_duplicates(inplace=True)\n",
    "df_results"
   ]
  },
  {
   "cell_type": "code",
   "execution_count": 34,
   "metadata": {},
   "outputs": [
    {
     "name": "stdout",
     "output_type": "stream",
     "text": [
      "Results have been appended to uscs_query_result.csv\n"
     ]
    },
    {
     "name": "stderr",
     "output_type": "stream",
     "text": [
      "C:\\Users\\ericluo\\AppData\\Local\\Temp\\ipykernel_21368\\3633805556.py:13: FutureWarning: The frame.append method is deprecated and will be removed from pandas in a future version. Use pandas.concat instead.\n",
      "  df_final = df_existing.append(df_results)\n"
     ]
    }
   ],
   "source": [
    "import os\n",
    "\n",
    "csv_file_path = 'uscs_query_result.csv'\n",
    "\n",
    "if os.path.exists(csv_file_path):\n",
    "    df_existing = pd.read_csv(csv_file_path)\n",
    "    \n",
    "    last_index = df_existing.index[-1] if not df_existing.empty else -1\n",
    "\n",
    "    df_results.index = range(last_index + 1, last_index + 1 + len(df_results))\n",
    "    \n",
    "    # Append the new results to the existing DataFrame\n",
    "    df_final = df_existing.append(df_results)\n",
    "    df_final = df_final.iloc[last_index + 1:,1:]\n",
    "else:\n",
    "    df_final = df_results\n",
    "    df_final.index = range(len(df_final))\n",
    "\n",
    "# Output to CSV, without overwriting existing data and with continuous indexing\n",
    "df_final.to_csv(csv_file_path, index_label='Index', mode='w' if not os.path.exists(csv_file_path) else 'a', header=not os.path.exists(csv_file_path))\n",
    "\n",
    "print(f\"Results have been appended to {csv_file_path}\")\n"
   ]
  },
  {
   "cell_type": "code",
   "execution_count": null,
   "metadata": {},
   "outputs": [],
   "source": []
  }
 ],
 "metadata": {
  "kernelspec": {
   "display_name": "base",
   "language": "python",
   "name": "python3"
  },
  "language_info": {
   "codemirror_mode": {
    "name": "ipython",
    "version": 3
   },
   "file_extension": ".py",
   "mimetype": "text/x-python",
   "name": "python",
   "nbconvert_exporter": "python",
   "pygments_lexer": "ipython3",
   "version": "3.9.13"
  }
 },
 "nbformat": 4,
 "nbformat_minor": 2
}
