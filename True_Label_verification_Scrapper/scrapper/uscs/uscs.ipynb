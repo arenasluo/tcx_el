{
 "cells": [
  {
   "cell_type": "code",
   "execution_count": null,
   "metadata": {},
   "outputs": [],
   "source": [
    "import time\n",
    "from selenium import webdriver\n",
    "from selenium.webdriver.common.by import By\n",
    "from selenium.webdriver.common.keys import Keys\n",
    "from selenium.webdriver.support.ui import WebDriverWait\n",
    "from selenium.webdriver.support import expected_conditions as EC\n",
    "from selenium.common.exceptions import TimeoutException\n",
    "import pandas as pd\n",
    "\n",
    "\n",
    "# phone numbers to check\n",
    "# Read phone numbers from file and remove country code\n",
    "with open('USCCphonenumber.txt', 'r') as file:\n",
    "    phone_numbers = [line.strip()[1:] if line.strip().startswith('1') else line.strip() for line in file]\n",
    "phone_numbers\n",
    "\n",
    "# Initialize WebDriver\n",
    "options = webdriver.ChromeOptions()\n",
    "options.headless = True  # Running in headless mode if preferred\n",
    "driver = webdriver.Chrome(options=options)\n",
    "\n",
    "\n",
    "driver.get('https://prepaid.uscellular.com/refill/dashboard')\n",
    "\n",
    "\n",
    "# Store the results\n",
    "results = []\n",
    "\n",
    "\n",
    "try:\n",
    "    # Wait for and click the cookie reject button if present\n",
    "    WebDriverWait(driver, 5).until(\n",
    "        EC.element_to_be_clickable((By.ID, \"onetrust-reject-all-handler\"))\n",
    "    ).click()\n",
    "\n",
    "\n",
    "    for phone_number in phone_numbers:\n",
    "        # Wait for the phone number input field to appear and click it to focus\n",
    "        phone_input_field = WebDriverWait(driver, 5).until(\n",
    "            EC.presence_of_element_located((By.NAME, \"phone\"))\n",
    "        )\n",
    "       \n",
    "        phone_input_field.click()  # Focus on the input field\n",
    "\n",
    "\n",
    "        # Clear the input field in case there's any pre-filled data\n",
    "        phone_input_field.send_keys(Keys.CONTROL + \"a\")  # Select all text in input\n",
    "        phone_input_field.send_keys(Keys.DELETE)  # Delete all selected text\n",
    "\n",
    "\n",
    "        # Simulate typing the phone number one character at a time\n",
    "        for char in phone_number:\n",
    "            phone_input_field.send_keys(char)\n",
    "            time.sleep(0.1)  # Wait half a second before typing next character\n",
    "\n",
    "\n",
    "        # Fetch the error message element\n",
    "        try:\n",
    "            error_message_xpath = \"/html/body/div[1]/main/div[1]/div/div[2]/div/div[2]/div[1]/div/div[2]/div/div/div/div/form/div[1]/div[1]/div[2]\"\n",
    "            error_message_element = WebDriverWait(driver, 5).until(\n",
    "                EC.visibility_of_element_located((By.XPATH, error_message_xpath))\n",
    "            )\n",
    "            if error_message_element.text.strip():  # If there's text in the error element\n",
    "                error_message = error_message_element.text\n",
    "        except TimeoutException:\n",
    "            error_message = \"It's a prepaid number\" # If no error message appeared within 10 seconds, assume no error\n",
    "            pass\n",
    "\n",
    "\n",
    "        # Add the result for this phone number to the results list\n",
    "        results.append((phone_number, error_message))\n",
    "\n",
    "\n",
    "        # Clear the input for the next number\n",
    "        phone_input_field.send_keys(Keys.CONTROL + \"a\")\n",
    "        phone_input_field.send_keys(Keys.DELETE)\n",
    "\n",
    "\n",
    "except Exception as e:\n",
    "    print(f\"An error occurred: {e}\")\n",
    "finally:\n",
    "    driver.quit()\n",
    "\n",
    "\n",
    "# Convert the results to a DataFrame\n",
    "df_results = pd.DataFrame(results, columns=['Phone Number', 'Error Message'])\n",
    "print(df_results)\n",
    "\n",
    "\n",
    "\n"
   ]
  },
  {
   "cell_type": "code",
   "execution_count": 13,
   "metadata": {},
   "outputs": [
    {
     "data": {
      "text/plain": [
       "['4143137825', '2523124309', '2767243709', '4029427871', '3046980011']"
      ]
     },
     "execution_count": 13,
     "metadata": {},
     "output_type": "execute_result"
    }
   ],
   "source": [
    "# Read phone numbers from file and remove country code\n",
    "with open('USCCphonenumber.txt', 'r') as file:\n",
    "    phone_numbers = [line.strip()[1:] if line.strip().startswith('1') else line.strip() for line in file][5:10]\n",
    "phone_numbers"
   ]
  },
  {
   "cell_type": "code",
   "execution_count": null,
   "metadata": {},
   "outputs": [],
   "source": []
  },
  {
   "cell_type": "code",
   "execution_count": null,
   "metadata": {},
   "outputs": [],
   "source": []
  },
  {
   "cell_type": "code",
   "execution_count": 45,
   "metadata": {},
   "outputs": [
    {
     "name": "stdout",
     "output_type": "stream",
     "text": [
      "  Phone Number  Error Code\n",
      "0   5312800113           0\n",
      "1   4344208083           0\n",
      "2   5154992334           2\n",
      "3   9204723566           0\n",
      "4   9203924707           0\n",
      "5   9197270884           0\n",
      "6   2079075552           0\n",
      "7   6085471488           2\n",
      "8   3048886762           0\n",
      "9   7079544204           3\n"
     ]
    }
   ],
   "source": [
    "\n",
    "import time\n",
    "from selenium import webdriver\n",
    "from selenium.webdriver.common.by import By\n",
    "from selenium.webdriver.common.keys import Keys\n",
    "from selenium.webdriver.support.ui import WebDriverWait\n",
    "from selenium.webdriver.support import expected_conditions as EC\n",
    "from selenium.common.exceptions import TimeoutException\n",
    "import pandas as pd\n",
    "\n",
    "# Function to get error code based on the error message\n",
    "def get_error_code(error_message):\n",
    "    if 'billed customer' in error_message:\n",
    "        return 0\n",
    "    elif 'Phone number not valid' in error_message:\n",
    "        return 1\n",
    "    elif 'no longer in service' in error_message:\n",
    "        return 2\n",
    "    elif 'No errors, it is a prepaid number' in error_message:\n",
    "        return 3\n",
    "    else:\n",
    "        return -1  # Unknown error message\n",
    "\n",
    "# Read phone numbers from file and remove country code\n",
    "with open('USCCphonenumber.txt', 'r') as file:\n",
    "    phone_numbers = [line.strip()[1:] if line.strip().startswith('1') else line.strip() for line in file][70:100]\n",
    "phone_numbers\n",
    "\n",
    "# Initialize WebDriver\n",
    "options = webdriver.ChromeOptions()\n",
    "options.headless = True  \n",
    "driver = webdriver.Chrome(options=options)\n",
    "\n",
    "driver.get('https://prepaid.uscellular.com/refill/dashboard')\n",
    "\n",
    "\n",
    "results = []\n",
    "\n",
    "try:\n",
    "    # Reject cookies\n",
    "    WebDriverWait(driver, 5).until(\n",
    "        EC.element_to_be_clickable((By.ID, \"onetrust-reject-all-handler\"))\n",
    "    ).click()\n",
    "\n",
    "    for phone_number in phone_numbers:\n",
    "        # phone number input field\n",
    "        phone_input_field = WebDriverWait(driver, 10).until(\n",
    "            EC.presence_of_element_located((By.NAME, \"phone\"))\n",
    "        )\n",
    "        phone_input_field.click()  # Focus on the input field\n",
    "\n",
    "        # Clear the input field first\n",
    "        phone_input_field.send_keys(Keys.CONTROL + \"a\")\n",
    "        phone_input_field.send_keys(Keys.DELETE)\n",
    "\n",
    "        # Input phone number by numbers one by one\n",
    "        for char in phone_number:\n",
    "            phone_input_field.send_keys(char)\n",
    "            time.sleep(1)  # Small delay between each character\n",
    "\n",
    "        # Initialize default error message\n",
    "        error_message = \"No errors, it is a prepaid number\"\n",
    "        error_code = get_error_code(error_message)  # Get error code\n",
    "\n",
    "        # Check for an error message, wait up to 50 seconds\n",
    "        try:\n",
    "            error_message_xpath = \"/html/body/div[1]/main/div[1]/div/div[2]/div/div[2]/div[1]/div/div[2]/div/div/div/div/form/div[1]/div[1]/div[2]\"\n",
    "            error_message_element = WebDriverWait(driver, 10).until(\n",
    "                EC.visibility_of_element_located((By.XPATH, error_message_xpath))\n",
    "            )\n",
    "            if error_message_element.text.strip():  # If there's text in the error element\n",
    "                error_message = error_message_element.text\n",
    "                error_code = get_error_code(error_message)  # Update error code\n",
    "        except TimeoutException:\n",
    "            # If no error message appeared within 50 seconds, assume no error\n",
    "            pass\n",
    "\n",
    "\n",
    "        results.append((phone_number, error_code))\n",
    "\n",
    "        # next number\n",
    "        phone_input_field.send_keys(Keys.CONTROL + \"a\")\n",
    "        phone_input_field.send_keys(Keys.DELETE)\n",
    "\n",
    "except Exception as e:\n",
    "    print(f\"An error occurred: {e}\")\n",
    "finally:\n",
    "    # close the browser.\n",
    "    driver.quit()\n",
    "\n",
    "# Convert the results to a DataFrame \n",
    "df_results = pd.DataFrame(results, columns=['Phone Number', 'Error Code'])\n",
    "print(df_results)\n"
   ]
  },
  {
   "cell_type": "code",
   "execution_count": 11,
   "metadata": {},
   "outputs": [
    {
     "name": "stdout",
     "output_type": "stream",
     "text": [
      "Results have been saved to query_result.csv\n"
     ]
    }
   ],
   "source": [
    "# df_results = pd.DataFrame(results, columns=['Phone Number', 'Error Code'])\n",
    "# df_results.to_csv('query_result.csv', index=True)  \n",
    "# print(\"Results have been saved to query_result.csv\")\n"
   ]
  },
  {
   "cell_type": "code",
   "execution_count": 37,
   "metadata": {},
   "outputs": [
    {
     "data": {
      "text/plain": [
       "['2623252695', '3196662892', '6033814025', '5158224253', '3192155756']"
      ]
     },
     "execution_count": 37,
     "metadata": {},
     "output_type": "execute_result"
    }
   ],
   "source": [
    "# with open('USCCphonenumber.txt', 'r') as file:\n",
    "#     phone_numbers = [line.strip()[1:] if line.strip().startswith('1') else line.strip() for line in file][10:15]\n",
    "# phone_numbers"
   ]
  },
  {
   "cell_type": "code",
   "execution_count": 46,
   "metadata": {},
   "outputs": [
    {
     "name": "stdout",
     "output_type": "stream",
     "text": [
      "Results have been appended to query_result.csv\n"
     ]
    },
    {
     "name": "stderr",
     "output_type": "stream",
     "text": [
      "C:\\Users\\ericluo\\AppData\\Local\\Temp\\ipykernel_29416\\2355543108.py:14: FutureWarning: The frame.append method is deprecated and will be removed from pandas in a future version. Use pandas.concat instead.\n",
      "  df_final = df_existing.append(df_results)\n"
     ]
    }
   ],
   "source": [
    "import os\n",
    "\n",
    "csv_file_path = 'query_result.csv'\n",
    "\n",
    "df_results = pd.DataFrame(results, columns=['Phone Number', 'Error Code'])\n",
    "if os.path.exists(csv_file_path):\n",
    "    df_existing = pd.read_csv(csv_file_path)\n",
    "    \n",
    "    last_index = df_existing.index[-1] if not df_existing.empty else -1\n",
    "\n",
    "    df_results.index = range(last_index + 1, last_index + 1 + len(df_results))\n",
    "    \n",
    "    # Append the new results to the existing DataFrame\n",
    "    df_final = df_existing.append(df_results)\n",
    "    df_final = df_final.iloc[last_index + 1:,1:]\n",
    "else:\n",
    "    df_final = df_results\n",
    "    df_final.index = range(len(df_final))\n",
    "\n",
    "# Output to CSV, without overwriting existing data and with continuous indexing\n",
    "df_final.to_csv(csv_file_path, index_label='Index', mode='w' if not os.path.exists(csv_file_path) else 'a', header=not os.path.exists(csv_file_path))\n",
    "\n",
    "print(f\"Results have been appended to {csv_file_path}\")\n"
   ]
  },
  {
   "cell_type": "code",
   "execution_count": null,
   "metadata": {},
   "outputs": [],
   "source": []
  }
 ],
 "metadata": {
  "kernelspec": {
   "display_name": "base",
   "language": "python",
   "name": "python3"
  },
  "language_info": {
   "codemirror_mode": {
    "name": "ipython",
    "version": 3
   },
   "file_extension": ".py",
   "mimetype": "text/x-python",
   "name": "python",
   "nbconvert_exporter": "python",
   "pygments_lexer": "ipython3",
   "version": "3.9.13"
  }
 },
 "nbformat": 4,
 "nbformat_minor": 2
}
