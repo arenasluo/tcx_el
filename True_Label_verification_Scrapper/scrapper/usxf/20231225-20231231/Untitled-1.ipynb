{
 "cells": [
  {
   "cell_type": "code",
   "execution_count": 7,
   "metadata": {},
   "outputs": [],
   "source": [
    "import pandas as pd\n",
    "\n",
    "# Load the CSV file\n",
    "csv_file_path = 'usxf_query_result1.csv'\n",
    "df = pd.read_csv(csv_file_path, header =None)\n",
    "\n",
    "# Remove duplicate records\n",
    "df_cleaned = df.drop_duplicates()\n",
    "\n",
    "# Save the cleaned dataframe to a new CSV file\n",
    "cleaned_csv_file_path = 'Cleaned_usxf_query_result.csv'\n"
   ]
  },
  {
   "cell_type": "code",
   "execution_count": 8,
   "metadata": {},
   "outputs": [
    {
     "data": {
      "text/plain": [
       "9934"
      ]
     },
     "execution_count": 8,
     "metadata": {},
     "output_type": "execute_result"
    }
   ],
   "source": [
    "len(df_cleaned)"
   ]
  },
  {
   "cell_type": "code",
   "execution_count": 9,
   "metadata": {},
   "outputs": [],
   "source": [
    "df_cleaned.iloc[:,:3].to_csv(cleaned_csv_file_path, index=False)"
   ]
  },
  {
   "cell_type": "code",
   "execution_count": 10,
   "metadata": {},
   "outputs": [
    {
     "data": {
      "text/plain": [
       "0        8708143965\n",
       "1        7708459927\n",
       "2        7604157973\n",
       "3        6197507224\n",
       "4        8436244940\n",
       "            ...    \n",
       "9965     7325398881\n",
       "9966     6308530915\n",
       "9967     7077319298\n",
       "9983     4123340844\n",
       "10046    9412772676\n",
       "Name: 0, Length: 9934, dtype: object"
      ]
     },
     "execution_count": 10,
     "metadata": {},
     "output_type": "execute_result"
    }
   ],
   "source": [
    "b = df_cleaned[0].astype(str)\n",
    "b"
   ]
  },
  {
   "cell_type": "code",
   "execution_count": 83,
   "metadata": {},
   "outputs": [
    {
     "data": {
      "text/plain": [
       "0         2542340037\n",
       "1         2544220005\n",
       "2         2544220068\n",
       "3         2544220078\n",
       "4         2544220092\n",
       "             ...    \n",
       "165332    9857910962\n",
       "165333    9857910966\n",
       "165334    9857910980\n",
       "165335    9857910984\n",
       "165336    9857910994\n",
       "Name: 0, Length: 165337, dtype: object"
      ]
     },
     "execution_count": 83,
     "metadata": {},
     "output_type": "execute_result"
    }
   ],
   "source": [
    "# Load the text file containing phone numbers\n",
    "text_file_path = 'CellularOne_numbers.txt'\n",
    "\n",
    "df_missing_check = pd.read_csv(text_file_path, header =None)\n",
    "\n",
    "df_missing_check1 = df_missing_check.iloc[:, 0].astype(str).str.lstrip('1')\n",
    "\n",
    "a = df_missing_check1\n",
    "\n",
    "a\n",
    "\n",
    "\n"
   ]
  },
  {
   "cell_type": "code",
   "execution_count": 90,
   "metadata": {},
   "outputs": [
    {
     "data": {
      "text/html": [
       "<div>\n",
       "<style scoped>\n",
       "    .dataframe tbody tr th:only-of-type {\n",
       "        vertical-align: middle;\n",
       "    }\n",
       "\n",
       "    .dataframe tbody tr th {\n",
       "        vertical-align: top;\n",
       "    }\n",
       "\n",
       "    .dataframe thead th {\n",
       "        text-align: right;\n",
       "    }\n",
       "</style>\n",
       "<table border=\"1\" class=\"dataframe\">\n",
       "  <thead>\n",
       "    <tr style=\"text-align: right;\">\n",
       "      <th></th>\n",
       "      <th>index</th>\n",
       "      <th>0</th>\n",
       "    </tr>\n",
       "  </thead>\n",
       "  <tbody>\n",
       "    <tr>\n",
       "      <th>0</th>\n",
       "      <td>545</td>\n",
       "      <td>3183920982</td>\n",
       "    </tr>\n",
       "    <tr>\n",
       "      <th>1</th>\n",
       "      <td>546</td>\n",
       "      <td>3184169110</td>\n",
       "    </tr>\n",
       "    <tr>\n",
       "      <th>2</th>\n",
       "      <td>1739</td>\n",
       "      <td>4807974972</td>\n",
       "    </tr>\n",
       "    <tr>\n",
       "      <th>3</th>\n",
       "      <td>1767</td>\n",
       "      <td>5052360466</td>\n",
       "    </tr>\n",
       "    <tr>\n",
       "      <th>4</th>\n",
       "      <td>1771</td>\n",
       "      <td>5052979954</td>\n",
       "    </tr>\n",
       "    <tr>\n",
       "      <th>...</th>\n",
       "      <td>...</td>\n",
       "      <td>...</td>\n",
       "    </tr>\n",
       "    <tr>\n",
       "      <th>207</th>\n",
       "      <td>22454</td>\n",
       "      <td>9365541298</td>\n",
       "    </tr>\n",
       "    <tr>\n",
       "      <th>208</th>\n",
       "      <td>25273</td>\n",
       "      <td>5056861353</td>\n",
       "    </tr>\n",
       "    <tr>\n",
       "      <th>209</th>\n",
       "      <td>54922</td>\n",
       "      <td>9033852302</td>\n",
       "    </tr>\n",
       "    <tr>\n",
       "      <th>210</th>\n",
       "      <td>98366</td>\n",
       "      <td>9038107486</td>\n",
       "    </tr>\n",
       "    <tr>\n",
       "      <th>211</th>\n",
       "      <td>105602</td>\n",
       "      <td>4095252073</td>\n",
       "    </tr>\n",
       "  </tbody>\n",
       "</table>\n",
       "<p>212 rows × 2 columns</p>\n",
       "</div>"
      ],
      "text/plain": [
       "      index           0\n",
       "0       545  3183920982\n",
       "1       546  3184169110\n",
       "2      1739  4807974972\n",
       "3      1767  5052360466\n",
       "4      1771  5052979954\n",
       "..      ...         ...\n",
       "207   22454  9365541298\n",
       "208   25273  5056861353\n",
       "209   54922  9033852302\n",
       "210   98366  9038107486\n",
       "211  105602  4095252073\n",
       "\n",
       "[212 rows x 2 columns]"
      ]
     },
     "execution_count": 90,
     "metadata": {},
     "output_type": "execute_result"
    }
   ],
   "source": [
    "# To find all elements in dataframe A (df_cleaned) but not in dataframe B (assuming a similar structure),\n",
    "# we will compare the 'phone_number' column of both dataframes.\n",
    "\n",
    "# For demonstration, let's create a sample dataframe B with a similar structure to df_cleaned\n",
    "# This will have some overlapping and some unique phone numbers\n",
    "\n",
    "\n",
    "# Find elements in df_cleaned that are not in df_b\n",
    "unique_in_df_cleaned = a[~a.isin(b)]\n",
    "\n",
    "unique_in_df_cleaned= unique_in_df_cleaned.reset_index()  # Display the first few rows of the unique elements\n",
    "\n",
    "unique_in_df_cleaned\n"
   ]
  },
  {
   "cell_type": "code",
   "execution_count": 89,
   "metadata": {},
   "outputs": [
    {
     "data": {
      "text/plain": [
       "0         545\n",
       "1         546\n",
       "2        1739\n",
       "3        1767\n",
       "4        1771\n",
       "        ...  \n",
       "207     22454\n",
       "208     25273\n",
       "209     54922\n",
       "210     98366\n",
       "211    105602\n",
       "Name: index, Length: 212, dtype: int64"
      ]
     },
     "execution_count": 89,
     "metadata": {},
     "output_type": "execute_result"
    }
   ],
   "source": [
    "unique_in_df_cleaned[\"index\"]"
   ]
  },
  {
   "cell_type": "code",
   "execution_count": 91,
   "metadata": {},
   "outputs": [
    {
     "data": {
      "text/plain": [
       "0      3183920982\n",
       "1      3184169110\n",
       "2      4807974972\n",
       "3      5052360466\n",
       "4      5052979954\n",
       "          ...    \n",
       "207    9365541298\n",
       "208    5056861353\n",
       "209    9033852302\n",
       "210    9038107486\n",
       "211    4095252073\n",
       "Name: 0, Length: 212, dtype: object"
      ]
     },
     "execution_count": 91,
     "metadata": {},
     "output_type": "execute_result"
    }
   ],
   "source": [
    "# Dropping the column\n",
    "unique_in_df_cleaned = unique_in_df_cleaned[0]\n",
    "# Displaying the first few rows to confirm the change\n",
    "unique_in_df_cleaned"
   ]
  },
  {
   "cell_type": "code",
   "execution_count": 94,
   "metadata": {},
   "outputs": [
    {
     "data": {
      "text/plain": [
       "0      13183920982\n",
       "1      13184169110\n",
       "2      14807974972\n",
       "3      15052360466\n",
       "4      15052979954\n",
       "          ...     \n",
       "207    19365541298\n",
       "208    15056861353\n",
       "209    19033852302\n",
       "210    19038107486\n",
       "211    14095252073\n",
       "Name: 0, Length: 212, dtype: object"
      ]
     },
     "execution_count": 94,
     "metadata": {},
     "output_type": "execute_result"
    }
   ],
   "source": [
    "unique_in_df_cleaned = '1' + unique_in_df_cleaned\n",
    "unique_in_df_cleaned"
   ]
  },
  {
   "cell_type": "code",
   "execution_count": 95,
   "metadata": {},
   "outputs": [],
   "source": [
    "unique_in_df_cleaned.to_csv('CellularOne_missing_numbers.csv',header=None, index=False)"
   ]
  }
 ],
 "metadata": {
  "kernelspec": {
   "display_name": "base",
   "language": "python",
   "name": "python3"
  },
  "language_info": {
   "codemirror_mode": {
    "name": "ipython",
    "version": 3
   },
   "file_extension": ".py",
   "mimetype": "text/x-python",
   "name": "python",
   "nbconvert_exporter": "python",
   "pygments_lexer": "ipython3",
   "version": "3.9.13"
  }
 },
 "nbformat": 4,
 "nbformat_minor": 2
}
